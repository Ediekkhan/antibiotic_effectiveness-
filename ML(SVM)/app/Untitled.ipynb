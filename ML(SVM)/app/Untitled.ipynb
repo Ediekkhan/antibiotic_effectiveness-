{
 "cells": [
  {
   "cell_type": "code",
   "execution_count": 8,
   "id": "0f4c4be2",
   "metadata": {},
   "outputs": [],
   "source": [
    "import streamlit as st\n",
    "import pandas as pd\n",
    "import joblib\n",
    "\n",
    "# Load the trained model and encoder\n",
    "model = joblib.load('/home/Kanex/Documents/dr An/ML(SVM)/trained_model4.pkl')\n",
    "encoder = joblib.load('/home/Kanex/Documents/dr An/ML(SVM)/trained_model4.pkl')\n",
    "def preprocess_input(diagnosis, drugs):\n",
    "\n",
    "    user_data = pd.DataFrame({'Diagnosis': X['diagnosis'], 'Drugs': X['drugs']})\n",
    "\n",
    "  \n",
    "    diagnosis_encoded = encoder.predict(user_data['Diagnosis'])\n",
    "    drugs_encoded = encoder.predict(user_data['Drugs'])\n",
    "\n",
    "    # Concatenate encoded features\n",
    "    user_data_encoded = pd.DataFrame({'Diagnosis': diagnosis_encoded, 'Drugs': drugs_encoded})\n",
    "\n",
    "    return user_data_encoded\n",
    "# user_data = pd.DataFrame({'Diagnosis': [diagnosis], 'Drugs': [drugs]})\n",
    "\n",
    "# # Streamlit UI\n",
    "# def main():\n",
    "#     st.title(\"Machine Learning Model with Streamlit\")\n",
    "\n",
    "#     # User input\n",
    "#     diagnosis = st.text_input(\"Enter Diagnosis:\")\n",
    "#     drugs = st.text_input(\"Enter Drugs:\")\n",
    "\n",
    "#     if st.button(\"Predict\"):\n",
    "#         user_data_encoded = preprocess_input(diagnosis, drugs)\n",
    "\n",
    "#         prediction = model.predict(user_data_encoded)\n",
    "\n",
    "#         st.success(f\"Prediction: {prediction[0]}\")\n",
    "\n",
    "# if __name__ == \"__main__\":\n",
    "#     main()\n",
    "\n",
    "# import streamlit as st\n",
    "# import joblib\n",
    "# from sklearn.preprocessing import LabelEncoder\n",
    "\n",
    "\n",
    "# # Load the trained model and encoder\n",
    "# model = joblib.load('/home/Kanex/Documents/dr An/ML(SVM)/trained_model4.pkl')\n",
    "# encoder = joblib.load('/home/Kanex/Documents/dr An/ML(SVM)/trained_model4.pkl')\n",
    "\n",
    "# # Streamlit UI\n",
    "# def main():\n",
    "#     st.title(\"Machine Learning Model with Streamlit\")\n",
    "\n",
    "#     # User input\n",
    "#     diagnosis = st.text_input(\"Enter Diagnosis:\")\n",
    "#     drugs = st.text_input(\"Enter Drugs:\")\n",
    "\n",
    "#     if st.button(\"Predict\"):\n",
    "#         # Apply encoding to user input\n",
    "        \n",
    "#         diagnosis_encoded = encoder.transform([diagnosis])\n",
    "#         drugs_encoded = encoder.transform([drugs])\n",
    "\n",
    "#         # Concatenate the encoded features\n",
    "#         user_data_encoded = [diagnosis_encoded[0], drugs_encoded[0]]\n",
    "\n",
    "#         # Make prediction\n",
    "#         prediction = model.predict([user_data_encoded])\n",
    "\n",
    "#         # Display result\n",
    "#         st.success(f\"Prediction: {prediction[0]}\")\n",
    "\n",
    "# if __name__ == \"__main__\":\n",
    "#     main()\n"
   ]
  },
  {
   "cell_type": "code",
   "execution_count": 9,
   "id": "3826441a",
   "metadata": {},
   "outputs": [
    {
     "data": {
      "text/plain": [
       "Pipeline(steps=[('standardscaler', StandardScaler()),\n",
       "                ('svc', SVC(kernel='linear'))])"
      ]
     },
     "execution_count": 9,
     "metadata": {},
     "output_type": "execute_result"
    }
   ],
   "source": [
    "encoder\n"
   ]
  },
  {
   "cell_type": "code",
   "execution_count": 10,
   "id": "a8eabc0f",
   "metadata": {},
   "outputs": [
    {
     "ename": "NameError",
     "evalue": "name 'user_data' is not defined",
     "output_type": "error",
     "traceback": [
      "\u001b[0;31m---------------------------------------------------------------------------\u001b[0m",
      "\u001b[0;31mNameError\u001b[0m                                 Traceback (most recent call last)",
      "Input \u001b[0;32mIn [10]\u001b[0m, in \u001b[0;36m<cell line: 1>\u001b[0;34m()\u001b[0m\n\u001b[0;32m----> 1\u001b[0m \u001b[43muser_data\u001b[49m\n",
      "\u001b[0;31mNameError\u001b[0m: name 'user_data' is not defined"
     ]
    }
   ],
   "source": [
    "user_data"
   ]
  },
  {
   "cell_type": "code",
   "execution_count": 11,
   "id": "f63b8c53",
   "metadata": {},
   "outputs": [
    {
     "ename": "NameError",
     "evalue": "name 'X' is not defined",
     "output_type": "error",
     "traceback": [
      "\u001b[0;31m---------------------------------------------------------------------------\u001b[0m",
      "\u001b[0;31mNameError\u001b[0m                                 Traceback (most recent call last)",
      "Input \u001b[0;32mIn [11]\u001b[0m, in \u001b[0;36m<cell line: 1>\u001b[0;34m()\u001b[0m\n\u001b[0;32m----> 1\u001b[0m user_data \u001b[38;5;241m=\u001b[39m pd\u001b[38;5;241m.\u001b[39mDataFrame({\u001b[38;5;124m'\u001b[39m\u001b[38;5;124mDiagnosis\u001b[39m\u001b[38;5;124m'\u001b[39m: \u001b[43mX\u001b[49m[\u001b[38;5;124m'\u001b[39m\u001b[38;5;124mdiagnosis\u001b[39m\u001b[38;5;124m'\u001b[39m], \u001b[38;5;124m'\u001b[39m\u001b[38;5;124mDrugs\u001b[39m\u001b[38;5;124m'\u001b[39m: X[\u001b[38;5;124m'\u001b[39m\u001b[38;5;124mdrugs\u001b[39m\u001b[38;5;124m'\u001b[39m]})\n",
      "\u001b[0;31mNameError\u001b[0m: name 'X' is not defined"
     ]
    }
   ],
   "source": [
    "    user_data = pd.DataFrame({'Diagnosis': X['diagnosis'], 'Drugs': X['drugs']})\n"
   ]
  },
  {
   "cell_type": "code",
   "execution_count": null,
   "id": "c1e63df4",
   "metadata": {},
   "outputs": [],
   "source": []
  }
 ],
 "metadata": {
  "kernelspec": {
   "display_name": "Python 3 (ipykernel)",
   "language": "python",
   "name": "python3"
  },
  "language_info": {
   "codemirror_mode": {
    "name": "ipython",
    "version": 3
   },
   "file_extension": ".py",
   "mimetype": "text/x-python",
   "name": "python",
   "nbconvert_exporter": "python",
   "pygments_lexer": "ipython3",
   "version": "3.9.12"
  }
 },
 "nbformat": 4,
 "nbformat_minor": 5
}
